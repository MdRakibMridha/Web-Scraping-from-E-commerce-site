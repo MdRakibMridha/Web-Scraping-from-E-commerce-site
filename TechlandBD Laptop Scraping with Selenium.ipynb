{
 "cells": [
  {
   "cell_type": "code",
   "execution_count": null,
   "metadata": {},
   "outputs": [],
   "source": [
    "!pip install selenium"
   ]
  },
  {
   "cell_type": "code",
   "execution_count": null,
   "metadata": {},
   "outputs": [],
   "source": [
    "!pip install webdriver_manager"
   ]
  },
  {
   "cell_type": "code",
   "execution_count": 3,
   "metadata": {},
   "outputs": [],
   "source": [
    "from selenium import webdriver\n",
    "from webdriver_manager.chrome import ChromeDriverManager\n",
    "from time import sleep"
   ]
  },
  {
   "cell_type": "code",
   "execution_count": 4,
   "metadata": {},
   "outputs": [
    {
     "name": "stderr",
     "output_type": "stream",
     "text": [
      "C:\\Users\\MD RAKIB MRIDHA\\AppData\\Local\\Temp\\ipykernel_4708\\1503906442.py:1: DeprecationWarning: executable_path has been deprecated, please pass in a Service object\n",
      "  driver = webdriver.Chrome(ChromeDriverManager().install())\n"
     ]
    }
   ],
   "source": [
    "driver = webdriver.Chrome(ChromeDriverManager().install())"
   ]
  },
  {
   "cell_type": "code",
   "execution_count": 5,
   "metadata": {},
   "outputs": [],
   "source": [
    "driver.get('https://www.techlandbd.com/')"
   ]
  },
  {
   "cell_type": "code",
   "execution_count": 6,
   "metadata": {},
   "outputs": [],
   "source": [
    "laptop = driver.find_element('xpath','//*[@id=\"content-top\"]/div/div/div/div[5]/div/div[2]/div/div/div[1]/a/div/div[1]')\n",
    "laptop.click()"
   ]
  },
  {
   "cell_type": "code",
   "execution_count": 17,
   "metadata": {},
   "outputs": [],
   "source": [
    "data = []\n",
    "for page in range(1,18):\n",
    "    url = f'https://www.techlandbd.com/shop-laptop-computer?limit=100&page={page}'\n",
    "    driver.get(url)\n",
    "    sleep(2)\n",
    "    product_lenth = driver.find_elements('xpath','(//div[@class=\"main-products product-grid\"]/div/div/div[@class=\"caption\"]/div[@class=\"name\"]/a)')\n",
    "    for product in range(1,len(product_lenth)+ 1):\n",
    "        try:\n",
    "            xpath_model = f'(//div[@class=\"main-products product-grid\"]/div/div/div[@class=\"caption\"]/div[@class=\"name\"]/a)[{product}]'\n",
    "            xpath_price = f'(//div[@class=\"price\"]/div/span[@class=\"price-normal\" or@class=\"price-new\"])[{product}]'\n",
    "            products ={\n",
    "                'product_name' : driver.find_element('xpath',xpath_model).text,\n",
    "                'product_url' : driver.find_element('xpath',xpath_model).get_attribute('href'),\n",
    "                'product_price' : driver.find_element('xpath',xpath_price).text\n",
    "            }\n",
    "            data.append(products)\n",
    "        except:\n",
    "            pass"
   ]
  },
  {
   "cell_type": "code",
   "execution_count": 18,
   "metadata": {},
   "outputs": [
    {
     "data": {
      "text/plain": [
       "764"
      ]
     },
     "execution_count": 18,
     "metadata": {},
     "output_type": "execute_result"
    }
   ],
   "source": [
    "len(data)"
   ]
  },
  {
   "cell_type": "code",
   "execution_count": 19,
   "metadata": {},
   "outputs": [],
   "source": [
    "import pandas as pd\n",
    "df = pd.DataFrame(data)"
   ]
  },
  {
   "cell_type": "code",
   "execution_count": 20,
   "metadata": {},
   "outputs": [
    {
     "data": {
      "text/html": [
       "<div>\n",
       "<style scoped>\n",
       "    .dataframe tbody tr th:only-of-type {\n",
       "        vertical-align: middle;\n",
       "    }\n",
       "\n",
       "    .dataframe tbody tr th {\n",
       "        vertical-align: top;\n",
       "    }\n",
       "\n",
       "    .dataframe thead th {\n",
       "        text-align: right;\n",
       "    }\n",
       "</style>\n",
       "<table border=\"1\" class=\"dataframe\">\n",
       "  <thead>\n",
       "    <tr style=\"text-align: right;\">\n",
       "      <th></th>\n",
       "      <th>product_name</th>\n",
       "      <th>product_url</th>\n",
       "      <th>product_price</th>\n",
       "    </tr>\n",
       "  </thead>\n",
       "  <tbody>\n",
       "    <tr>\n",
       "      <th>0</th>\n",
       "      <td>APPLE MACBOOK PRO M2 (MNEH3) 13.3 INCH RETINA ...</td>\n",
       "      <td>https://www.techlandbd.com/apple-macbook-pro-m...</td>\n",
       "      <td>162,000৳</td>\n",
       "    </tr>\n",
       "    <tr>\n",
       "      <th>1</th>\n",
       "      <td>ASUS X515MA 15.6-INCH FULL HD DISPLAY CELERON ...</td>\n",
       "      <td>https://www.techlandbd.com/asus-x515ma-br062-c...</td>\n",
       "      <td>43,500৳</td>\n",
       "    </tr>\n",
       "    <tr>\n",
       "      <th>2</th>\n",
       "      <td>SAMSUNG GALAXY TAB A7 LITE 8.7 INCH DISPLAY 3G...</td>\n",
       "      <td>https://www.techlandbd.com/galaxy-tab-a7-lite-...</td>\n",
       "      <td>19,499৳</td>\n",
       "    </tr>\n",
       "    <tr>\n",
       "      <th>3</th>\n",
       "      <td>LENOVO YOGA SLIM 7 CARBON 14ACN6 14 INCH 2.8K ...</td>\n",
       "      <td>https://www.techlandbd.com/lenovo-yoga-slim-7-...</td>\n",
       "      <td>180,500৳</td>\n",
       "    </tr>\n",
       "    <tr>\n",
       "      <th>4</th>\n",
       "      <td>LENOVO V15 15.6 INCH FHD RYZEN 3-5300U 8GB RAM...</td>\n",
       "      <td>https://www.techlandbd.com/lenovo-v15-ryzen-3-...</td>\n",
       "      <td>52,500৳</td>\n",
       "    </tr>\n",
       "    <tr>\n",
       "      <th>...</th>\n",
       "      <td>...</td>\n",
       "      <td>...</td>\n",
       "      <td>...</td>\n",
       "    </tr>\n",
       "    <tr>\n",
       "      <th>759</th>\n",
       "      <td>LENOVO NOTE V14 14 INCH HD DISPLAY CORE I3 11T...</td>\n",
       "      <td>https://www.techlandbd.com/lenovo-note-v14-cor...</td>\n",
       "      <td>58,000৳</td>\n",
       "    </tr>\n",
       "    <tr>\n",
       "      <th>760</th>\n",
       "      <td>LENOVO NOTE V14 14 INCH HD DISPLAY CORE I3 11T...</td>\n",
       "      <td>https://www.techlandbd.com/lenovo-note-v14-cor...</td>\n",
       "      <td>57,500৳</td>\n",
       "    </tr>\n",
       "    <tr>\n",
       "      <th>761</th>\n",
       "      <td>LENOVO NOTE V14 14 INCH HD DISPLAY CORE I3 11T...</td>\n",
       "      <td>https://www.techlandbd.com/lenovo-note-v14-cor...</td>\n",
       "      <td>58,500৳</td>\n",
       "    </tr>\n",
       "    <tr>\n",
       "      <th>762</th>\n",
       "      <td>LENOVO NOTE V14 14 INCH HD DISPLAY CORE I3 11T...</td>\n",
       "      <td>https://www.techlandbd.com/lenovo-note-v14-cor...</td>\n",
       "      <td>56,500৳</td>\n",
       "    </tr>\n",
       "    <tr>\n",
       "      <th>763</th>\n",
       "      <td>AVITA ESSENTIAL 14 14-INCH FULL HD DISPLAY CEL...</td>\n",
       "      <td>https://www.techlandbd.com/avita-essential-14-...</td>\n",
       "      <td>28,600৳</td>\n",
       "    </tr>\n",
       "  </tbody>\n",
       "</table>\n",
       "<p>764 rows × 3 columns</p>\n",
       "</div>"
      ],
      "text/plain": [
       "                                          product_name  \\\n",
       "0    APPLE MACBOOK PRO M2 (MNEH3) 13.3 INCH RETINA ...   \n",
       "1    ASUS X515MA 15.6-INCH FULL HD DISPLAY CELERON ...   \n",
       "2    SAMSUNG GALAXY TAB A7 LITE 8.7 INCH DISPLAY 3G...   \n",
       "3    LENOVO YOGA SLIM 7 CARBON 14ACN6 14 INCH 2.8K ...   \n",
       "4    LENOVO V15 15.6 INCH FHD RYZEN 3-5300U 8GB RAM...   \n",
       "..                                                 ...   \n",
       "759  LENOVO NOTE V14 14 INCH HD DISPLAY CORE I3 11T...   \n",
       "760  LENOVO NOTE V14 14 INCH HD DISPLAY CORE I3 11T...   \n",
       "761  LENOVO NOTE V14 14 INCH HD DISPLAY CORE I3 11T...   \n",
       "762  LENOVO NOTE V14 14 INCH HD DISPLAY CORE I3 11T...   \n",
       "763  AVITA ESSENTIAL 14 14-INCH FULL HD DISPLAY CEL...   \n",
       "\n",
       "                                           product_url product_price  \n",
       "0    https://www.techlandbd.com/apple-macbook-pro-m...      162,000৳  \n",
       "1    https://www.techlandbd.com/asus-x515ma-br062-c...       43,500৳  \n",
       "2    https://www.techlandbd.com/galaxy-tab-a7-lite-...       19,499৳  \n",
       "3    https://www.techlandbd.com/lenovo-yoga-slim-7-...      180,500৳  \n",
       "4    https://www.techlandbd.com/lenovo-v15-ryzen-3-...       52,500৳  \n",
       "..                                                 ...           ...  \n",
       "759  https://www.techlandbd.com/lenovo-note-v14-cor...       58,000৳  \n",
       "760  https://www.techlandbd.com/lenovo-note-v14-cor...       57,500৳  \n",
       "761  https://www.techlandbd.com/lenovo-note-v14-cor...       58,500৳  \n",
       "762  https://www.techlandbd.com/lenovo-note-v14-cor...       56,500৳  \n",
       "763  https://www.techlandbd.com/avita-essential-14-...       28,600৳  \n",
       "\n",
       "[764 rows x 3 columns]"
      ]
     },
     "execution_count": 20,
     "metadata": {},
     "output_type": "execute_result"
    }
   ],
   "source": [
    "df"
   ]
  },
  {
   "cell_type": "code",
   "execution_count": 21,
   "metadata": {},
   "outputs": [],
   "source": [
    "df.to_csv('laptop.csv',index=False)"
   ]
  }
 ],
 "metadata": {
  "kernelspec": {
   "display_name": "Python 3.10.4 64-bit",
   "language": "python",
   "name": "python3"
  },
  "language_info": {
   "codemirror_mode": {
    "name": "ipython",
    "version": 3
   },
   "file_extension": ".py",
   "mimetype": "text/x-python",
   "name": "python",
   "nbconvert_exporter": "python",
   "pygments_lexer": "ipython3",
   "version": "3.10.4 (tags/v3.10.4:9d38120, Mar 23 2022, 23:13:41) [MSC v.1929 64 bit (AMD64)]"
  },
  "orig_nbformat": 4,
  "vscode": {
   "interpreter": {
    "hash": "fbe58ca63fe33f9eeae9e71d10368d2b4a57f2b1b395836210cc60d362c66949"
   }
  }
 },
 "nbformat": 4,
 "nbformat_minor": 2
}
